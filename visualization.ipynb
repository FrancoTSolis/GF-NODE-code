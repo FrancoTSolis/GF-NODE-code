{
 "cells": [
  {
   "cell_type": "code",
   "execution_count": 1,
   "metadata": {},
   "outputs": [],
   "source": [
    "import os\n",
    "import base64\n",
    "import io\n",
    "import matplotlib.pyplot as plt\n",
    "import numpy as np\n",
    "\n",
    "import py3Dmol  # Ensure you've installed py3Dmol, e.g. `pip install py3Dmol`\n",
    "\n",
    "import argparse\n",
    "from argparse import Namespace\n",
    "import torch\n",
    "import torch.utils.data\n",
    "# from md17.dataset import MD17DynamicsDataset as MD17Dataset\n",
    "from model.fourier_md import FourierMD \n",
    "import os, sys, time \n",
    "from torch import nn, optim\n",
    "import json\n",
    "from torch.optim.lr_scheduler import StepLR\n",
    "from ala.evaluate_utils import compute_bond_lengths, compute_bond_angles, compute_dihedral_angles, compute_errors, plot_ramachandran, compute_kde_and_distribution_shift\n",
    "import matplotlib.pyplot as plt \n",
    "import random \n",
    "\n",
    "parser = argparse.ArgumentParser(description='FourierMD')\n",
    "parser.add_argument('--exp_name', type=str, default='exp_1', metavar='N', help='experiment_name')\n",
    "parser.add_argument('--batch_size', type=int, default=100, metavar='N',\n",
    "                    help='input batch size for training (default: 128)')\n",
    "parser.add_argument('--epochs', type=int, default=10000, metavar='N',\n",
    "                    help='number of epochs to train (default: 10)')\n",
    "parser.add_argument('--num_timesteps', type=int, default=8, metavar='N',\n",
    "                    help='number of time steps per sample')\n",
    "parser.add_argument('--use_time_conv', type=eval, default=False)\n",
    "\n",
    "parser.add_argument('--no-cuda', action='store_true', default=False,\n",
    "                    help='enables CUDA training')\n",
    "parser.add_argument('--seed', type=int, default=1, metavar='S',\n",
    "                    help='random seed (default: 1)')\n",
    "parser.add_argument('--log_interval', type=int, default=1, metavar='N',\n",
    "                    help='how many batches to wait before logging training status')\n",
    "parser.add_argument('--test_interval', type=int, default=5, metavar='N',\n",
    "                    help='how many epochs to wait before logging test')\n",
    "parser.add_argument('--outf', type=str, default='log/md17', metavar='N',\n",
    "                    help='folder to output the json log file')\n",
    "parser.add_argument('--lr', type=float, default=5e-4, metavar='N',\n",
    "                    help='learning rate')\n",
    "parser.add_argument('--nf', type=int, default=64, metavar='N',\n",
    "                    help='hidden dim')\n",
    "parser.add_argument('--model', type=str, default='FourierMD', metavar='N',\n",
    "                    help='available models: FourierMD')\n",
    "parser.add_argument('--attention', type=int, default=0, metavar='N',\n",
    "                    help='attention in the ae model')\n",
    "parser.add_argument('--n_layers', type=int, default=5, metavar='N',\n",
    "                    help='number of layers for the autoencoder')\n",
    "parser.add_argument('--max_training_samples', type=int, default=3000, metavar='N',\n",
    "                    help='maximum amount of training samples')\n",
    "parser.add_argument('--weight_decay', type=float, default=1e-12, metavar='N',\n",
    "                    help='weight decay')\n",
    "parser.add_argument('--norm_diff', type=eval, default=False, metavar='N',\n",
    "                    help='normalize_diff')\n",
    "parser.add_argument('--tanh', type=eval, default=False, metavar='N',\n",
    "                    help='use tanh')\n",
    "parser.add_argument('--delta_frame', type=int, default=50,\n",
    "                    help='Number of frames delta.')\n",
    "parser.add_argument('--mol', type=str, default='aspirin',\n",
    "                    help='Name of the molecule.')\n",
    "parser.add_argument('--data_dir', type=str, default='',\n",
    "                    help='Data directory.')\n",
    "parser.add_argument('--learnable', type=eval, default=False, metavar='N',\n",
    "                    help='Use learnable FK.')\n",
    "\n",
    "parser.add_argument(\"--config_by_file\", default=False, action=\"store_true\", )\n",
    "parser.add_argument(\"--config\", default='config_md17_no.json', \n",
    "                    type=str, help='Path to the config file.')\n",
    "\n",
    "# ODE solver parameters \n",
    "parser.add_argument('--solver', type=str, help='ODE solver') \n",
    "parser.add_argument('--rtol', type=float, help='Relative tolerance for ODE solver')\n",
    "parser.add_argument('--atol', type=float, help='Absolute tolerance for ODE solver')\n",
    "\n",
    "parser.add_argument('--num_modes', type=int, default=2, help='The number of modes.')\n",
    "parser.add_argument('--time_emb_dim', type=int, default=32,\n",
    "                    help='The dimension of time embedding.')\n",
    "parser.add_argument('--norm', action='store_true', default=False,\n",
    "                    help='Use norm in FourierMD')\n",
    "parser.add_argument('--flat', action='store_true', default=False,\n",
    "                    help='flat MLP')\n",
    "\n",
    "# uneven sampling \n",
    "parser.add_argument('--uneven_sampling', action='store_true', default=False,\n",
    "                    help='Use uneven sampling')\n",
    "parser.add_argument('--internal_seed', type=int, default=0,\n",
    "                    help='Internal seed for uneven sampling')\n",
    "\n",
    "parser.add_argument('--fourier_basis', type=str, default=None, \n",
    "                    help='Fourier basis for time convolution, either linear or graph') \n",
    "\n",
    "# ablation study \n",
    "parser.add_argument('--no_ode', action='store_true', default=False,\n",
    "                    help='No ODE block')\n",
    "parser.add_argument('--no_fourier', action='store_true', default=False,\n",
    "                    help='No Fourier block')\n",
    "parser.add_argument('--gnn_ablation_mode', type=str, default='EGNN', help='GNN ablation mode, egnn, gcn, or graphsage')\n",
    "\n",
    "\n",
    "parser.add_argument('--ref_path', type=str, default='log/exp_1', metavar='N',\n",
    "                    help='folder from which to load the config file')\n",
    "parser.add_argument('--plot_scale_factor', type=float, default=None, metavar='N',\n",
    "                    help='scale factor for plotting')\n",
    "\n",
    "parser.add_argument('--f', type=str, default=None, metavar='N',\n",
    "                    help='jupyter requirement')\n",
    "\n",
    "\n",
    "args = parser.parse_args()"
   ]
  },
  {
   "cell_type": "code",
   "execution_count": 2,
   "metadata": {},
   "outputs": [],
   "source": [
    "args.ref_path = \"logs/md17_exp_ala2_graph_1203182716\"\n",
    "args.plot_scale_factor = 10.0 \n",
    "\n",
    "job_param_path = os.path.join(args.ref_path, 'config.json')\n",
    "with open(job_param_path, 'r') as f:\n",
    "    hyper_params = json.load(f)\n",
    "    # update keys existing in config\n",
    "    args = vars(args)\n",
    "    args.update((k, v) for k, v in hyper_params.items() if k in args)\n",
    "    args = Namespace(**args)\n",
    "\n",
    "# assert torch.cuda.is_available(), \"no cuda device available\"\n",
    "args.cuda = not args.no_cuda and torch.cuda.is_available()"
   ]
  },
  {
   "cell_type": "code",
   "execution_count": null,
   "metadata": {},
   "outputs": [],
   "source": [
    "if args.mol == \"ala2\": \n",
    "    from ala.dataset import AlanineDataset as MoleculeDynamicsDataset \n",
    "elif args.mol in [\"aspirin\", \"benzene_old\", \"ethanol\", \"malonaldehyde\", \"naphthalene\", \"salicylic\", \"toluene\", \"uracil\"]: \n",
    "    from md17.dataset import MD17DynamicsDataset as MoleculeDynamicsDataset\n",
    "else: \n",
    "    raise ValueError(f\"Molecule {args.mol} not supported\") \n",
    " \n",
    "\n",
    "device = torch.device(\"cuda\" if args.cuda else \"cpu\")\n",
    "loss_mse = nn.MSELoss(reduction='none')\n",
    "\n",
    "assert not (args.no_fourier and args.no_ode), \"Cannot remove both Fourier and ODE block\" \n",
    "# exp_name plus a time stamp in format MMDDHHMMSS \n",
    "\n",
    "if not args.no_fourier: \n",
    "    assert args.fourier_basis in ['linear', 'graph'], \"fourier_basis must be either 'linear' or 'graph'\"\n",
    "\n",
    "print(args)\n",
    "# torch.autograd.set_detect_anomaly(True)\n",
    "\n",
    "\n",
    "def get_velocity_attr(loc, vel, rows, cols):\n",
    "\n",
    "    diff = loc[cols] - loc[rows]\n",
    "    norm = torch.norm(diff, p=2, dim=1).unsqueeze(1)\n",
    "    u = diff/norm\n",
    "    va, vb = vel[rows] * u, vel[cols] * u\n",
    "    va, vb = torch.sum(va, dim=1).unsqueeze(1), torch.sum(vb, dim=1).unsqueeze(1)\n",
    "    return va\n"
   ]
  },
  {
   "cell_type": "code",
   "execution_count": 4,
   "metadata": {},
   "outputs": [],
   "source": [
    "import os\n",
    "import base64\n",
    "import io\n",
    "import numpy as np\n",
    "import py3Dmol  # pip install py3Dmol\n",
    "\n",
    "########################\n",
    "# 1) Helper for XYZ\n",
    "########################\n",
    "def coords_to_xyz_string(coords, elements, title=\"Frame\"):\n",
    "    \"\"\"\n",
    "    Convert atomic coordinates + element symbols to a standard XYZ format string.\n",
    "    Args:\n",
    "        coords: shape (N, 3) np.array\n",
    "        elements: list of length N, e.g. [\"C\",\"H\",\"O\",...]\n",
    "        title: a string for the comment line\n",
    "    \"\"\"\n",
    "    N = coords.shape[0]\n",
    "    lines = [str(N), title]  # XYZ header line1: #atoms, line2: comment\n",
    "    for i in range(N):\n",
    "        x, y, z = coords[i]\n",
    "        elem = elements[i]\n",
    "        lines.append(f\"{elem} {x:.6f} {y:.6f} {z:.6f}\")\n",
    "    xyz_str = \"\\n\".join(lines)\n",
    "    return xyz_str\n",
    "\n",
    "########################\n",
    "# 2) Render in py3Dmol\n",
    "########################\n",
    "def generate_py3dmol_views(pred_coords_list, true_coords_list, elements_list, timepoints_list):\n",
    "    \"\"\"\n",
    "    Yields py3Dmol view objects for each trajectory & frame:\n",
    "      - For each trajectory i:\n",
    "        - For each timestep t:\n",
    "          - yield a dict with \"traj_idx\", \"time\", \"label\" = \"Pred\", and \"view\" for predicted\n",
    "          - yield a dict with \"traj_idx\", \"time\", \"label\" = \"True\", and \"view\" for ground truth\n",
    "\n",
    "    Usage in Jupyter:\n",
    "        gen = generate_py3dmol_views(...)\n",
    "        item = next(gen)\n",
    "        display(item['view'])  # or item['view'].png()\n",
    "    \"\"\"\n",
    "    num_trajectories = len(pred_coords_list)\n",
    "\n",
    "    for i in range(num_trajectories):\n",
    "        pred_coords = pred_coords_list[i]    # shape [T, N, 3]\n",
    "        true_coords = true_coords_list[i]    # shape [T, N, 3]\n",
    "        elements    = elements_list[i]       # length N\n",
    "        times       = timepoints_list[i]     # shape [T]\n",
    "\n",
    "        T_pred, N_pred, _ = pred_coords.shape\n",
    "        T_true, N_true, _ = true_coords.shape\n",
    "        assert T_pred == T_true, \"Mismatch in timesteps\"\n",
    "        assert N_pred == N_true, \"Mismatch in # of atoms\"\n",
    "        T = T_pred\n",
    "\n",
    "        for t in range(T):\n",
    "            # 1) Predicted\n",
    "            xyz_pred = coords_to_xyz_string(pred_coords[t], elements, title=f\"Pred, frame t={t}\")\n",
    "            view_pred = py3Dmol.view(width=400, height=300)\n",
    "            view_pred.addModel(xyz_pred, 'xyz')\n",
    "            view_pred.setStyle({'stick': {'radius': 0.15}, 'sphere': {'scale': 0.25}})\n",
    "            view_pred.zoomTo()\n",
    "            yield {\n",
    "                'traj_idx': i,\n",
    "                'time': times[t],\n",
    "                'label': 'Pred',\n",
    "                'view': view_pred\n",
    "            }\n",
    "\n",
    "            # 2) Ground Truth\n",
    "            xyz_true = coords_to_xyz_string(true_coords[t], elements, title=f\"True, frame t={t}\")\n",
    "            view_true = py3Dmol.view(width=400, height=300)\n",
    "            view_true.addModel(xyz_true, 'xyz')\n",
    "            view_true.setStyle({'stick': {'radius': 0.15}, 'sphere': {'scale': 0.25}})\n",
    "            view_true.zoomTo()\n",
    "            yield {\n",
    "                'traj_idx': i,\n",
    "                'time': times[t],\n",
    "                'label': 'True',\n",
    "                'view': view_true\n",
    "            }\n"
   ]
  },
  {
   "cell_type": "code",
   "execution_count": 5,
   "metadata": {},
   "outputs": [],
   "source": [
    "############################\n",
    "# 3) Evaluate & Yield Views\n",
    "############################\n",
    "def evaluate_model_short_term(loader, model):\n",
    "    \"\"\"\n",
    "    Example function that collects predicted & true coords \n",
    "    then yields py3Dmol views for each frame when called in a Jupyter Notebook.\n",
    "    \n",
    "    Instead of returning a single object, we yield from the \n",
    "    `generate_py3dmol_views` generator, so the user can call \n",
    "    `next(...)` or iterate to display each 3D view in a separate cell.\n",
    "    \"\"\"\n",
    "    model.eval()\n",
    "    all_pred, all_true = [], []\n",
    "    all_Z, all_timeframes = [], []\n",
    "\n",
    "    # For demonstration, we define an element table. Adapt as needed.\n",
    "    elements_table = {1: \"H\", 6: \"C\", 7: \"N\", 8: \"O\", 9: \"F\", 16: \"S\", 17: \"Cl\", 35: \"Br\", 53: \"I\"}\n",
    "\n",
    "\n",
    "    with torch.no_grad():\n",
    "        for batch_idx, data in enumerate(loader):\n",
    "            batch_size, n_nodes, _ = data[0].size()\n",
    "            if model.num_atoms is None: \n",
    "                model.num_atoms = n_nodes\n",
    "            else: \n",
    "                assert model.num_atoms == n_nodes, \"Number of atoms should be the same\" \n",
    "            data, cfg = data[:-1], data[-1]\n",
    "            data = [d.to(device) for d in data]\n",
    "            data = [d.view(-1, d.size(-1)) for d in data]  # Construct mini-batch graphs\n",
    "            for i in [4, 5]:\n",
    "                d = data[i].view(batch_size * n_nodes, args.num_timesteps, 3)\n",
    "                data[i] = d.transpose(0, 1).contiguous().view(-1, 3)\n",
    "            loc, vel, edge_attr, charges, loc_end, vel_end, Z, timeframes, U_batch = data\n",
    "\n",
    "            U_batch = U_batch.view(batch_size, n_nodes, n_nodes)\n",
    "\n",
    "            edges = loader.dataset.get_edges(batch_size, n_nodes)\n",
    "            edges = [edges[0].to(device), edges[1].to(device)]\n",
    "\n",
    "            cfg = loader.dataset.get_cfg(batch_size, n_nodes, cfg)\n",
    "            cfg = {_: cfg[_].to(device) for _ in cfg}\n",
    "\n",
    "            if args.model == 'fourier':\n",
    "                nodes = torch.sqrt(torch.sum(vel ** 2, dim=1)).unsqueeze(1).detach()\n",
    "                nodes = torch.cat((nodes, Z / Z.max()), dim=-1)\n",
    "                rows, cols = edges\n",
    "                loc_dist = torch.sum((loc[rows] - loc[cols]) ** 2, 1).unsqueeze(1)  # Relative distances among locations\n",
    "                edge_attr = torch.cat([edge_attr, loc_dist], 1).detach()  # Concatenate all edge properties\n",
    "                loc_mean = (\n",
    "                    loc.view(batch_size, n_nodes, 3)\n",
    "                    .mean(dim=1, keepdim=True)\n",
    "                    .repeat(1, n_nodes, 1)\n",
    "                    .view(-1, 3)\n",
    "                )  # [BN, 3]\n",
    "                loc_pred, vel_pred, _, kd_loss = model(\n",
    "                    loc.detach(),\n",
    "                    nodes,\n",
    "                    edges,\n",
    "                    edge_attr,\n",
    "                    vel,\n",
    "                    loc_mean=loc_mean,\n",
    "                    timeframes=timeframes,\n",
    "                    U_batch=U_batch,\n",
    "                )\n",
    "            else:\n",
    "                raise Exception(\"Wrong model\")\n",
    "\n",
    "            nodes = torch.sqrt(torch.sum(vel ** 2, dim=1)).unsqueeze(1).detach()\n",
    "            nodes = torch.cat((nodes, Z / Z.max()), dim=-1)\n",
    "\n",
    "            loc_mean = loc.view(batch_size, n_nodes, 3).mean(dim=1, keepdim=True).repeat(1, n_nodes, 1).view(-1, 3)\n",
    "\n",
    "            ####### \n",
    "\n",
    "            # Convert predictions and ground truth to numpy arrays\n",
    "            loc_pred_np = loc_pred.cpu().numpy().reshape(-1, args.num_timesteps, n_nodes, 3)\n",
    "            loc_end_np = loc_end.cpu().numpy().reshape(-1, args.num_timesteps, n_nodes, 3)\n",
    "\n",
    "            # Flatten predictions and ground truth for TICA analysis\n",
    "            loc_pred_flat = loc_pred_np.reshape(-1, n_nodes * 3)\n",
    "            loc_end_flat = loc_end_np.reshape(-1, n_nodes * 3)\n",
    "\n",
    "            # Store true and predicted values\n",
    "            all_true.append(loc_end_flat)\n",
    "            all_pred.append(loc_pred_flat)\n",
    "            all_Z.append(Z.cpu().numpy().reshape(-1, n_nodes))\n",
    "            all_timeframes.append(timeframes.cpu().numpy().reshape(-1))\n",
    "\n",
    "    # Concatenate all batches\n",
    "    all_true = np.concatenate(all_true, axis=0).reshape(-1, args.num_timesteps, n_nodes, 3) * args.plot_scale_factor\n",
    "    all_pred = np.concatenate(all_pred, axis=0).reshape(-1, args.num_timesteps, n_nodes, 3) * args.plot_scale_factor\n",
    "    all_Z = np.concatenate(all_Z, axis=0) \n",
    "    all_timeframes = np.concatenate(all_timeframes, axis=0).reshape(-1, args.num_timesteps)\n",
    "\n",
    "    all_elements_list = [\n",
    "        [elements_table[elem] for elem in row] for row in all_Z\n",
    "    ]\n",
    "\n",
    "    # Now we have lists of shape [num_trajectories, T, N, 3].\n",
    "    # We yield from the generator that creates py3Dmol views:\n",
    "    view_gen = generate_py3dmol_views(\n",
    "        pred_coords_list=all_pred, \n",
    "        true_coords_list=all_true,\n",
    "        elements_list=all_elements_list,\n",
    "        timepoints_list=all_timeframes\n",
    "    )\n",
    "    # In Python, we cannot simply \"yield from\" here if we want the user \n",
    "    # to run these in separate cells. The most flexible approach: return the generator.\n",
    "    return view_gen\n"
   ]
  },
  {
   "cell_type": "code",
   "execution_count": null,
   "metadata": {},
   "outputs": [],
   "source": [
    "# fix seed\n",
    "seed = args.seed\n",
    "random.seed(seed)\n",
    "np.random.seed(seed)\n",
    "torch.manual_seed(seed)\n",
    "torch.cuda.manual_seed(seed)\n",
    "torch.cuda.manual_seed_all(seed)\n",
    "torch.backends.cudnn.deterministic = True\n",
    "torch.backends.cudnn.benchmark = False\n",
    "# n_components = args.tica_components \n",
    "dataset_train = MoleculeDynamicsDataset(partition='train', max_samples=args.max_training_samples, data_dir=args.data_dir,\n",
    "                            molecule_type=args.mol, delta_frame=args.delta_frame,\n",
    "                            num_timesteps=args.num_timesteps, \n",
    "                            uneven_sampling=args.uneven_sampling, internal_seed=args.internal_seed)\n",
    "loader_train = torch.utils.data.DataLoader(dataset_train, batch_size=args.batch_size, shuffle=True, drop_last=True,\n",
    "                                           num_workers=0)\n",
    "dataset_val = MoleculeDynamicsDataset(partition='val', max_samples=2000, data_dir=args.data_dir,\n",
    "                            molecule_type=args.mol, delta_frame=args.delta_frame,\n",
    "                            num_timesteps=args.num_timesteps, \n",
    "                            uneven_sampling=args.uneven_sampling, internal_seed=args.internal_seed)\n",
    "loader_val = torch.utils.data.DataLoader(dataset_val, batch_size=args.batch_size, shuffle=False, drop_last=False,\n",
    "                                         num_workers=0)\n",
    "dataset_test = MoleculeDynamicsDataset(partition='test', max_samples=2000, data_dir=args.data_dir,\n",
    "                            molecule_type=args.mol, delta_frame=args.delta_frame,\n",
    "                            num_timesteps=args.num_timesteps, \n",
    "                            uneven_sampling=args.uneven_sampling, internal_seed=args.internal_seed)\n",
    "loader_test = torch.utils.data.DataLoader(dataset_test, batch_size=args.batch_size, shuffle=False, drop_last=False,\n",
    "                                          num_workers=0)\n",
    "\n",
    "delta_frame = args.delta_frame\n",
    "if args.no_fourier:\n",
    "    assert dataset_train.n_node == args.num_modes, \"Number of modes must be the same as the number of atoms\" \n",
    "    assert args.fourier_basis == None, \"No Fourier block, so fourier_basis must be None\" \n",
    "if args.model == 'fourier': \n",
    "    model = FourierMD(n_layers=args.n_layers, in_node_nf=2, in_edge_nf=2 + 3, hidden_nf=args.nf, device=device,\n",
    "                      with_v=True, flat=args.flat, activation=nn.SiLU(), norm=args.norm, num_modes=args.num_modes,\n",
    "                      num_timesteps=args.num_timesteps, time_emb_dim=args.time_emb_dim, \n",
    "                      num_atoms=None, solver=args.solver, rtol=args.rtol, atol=args.atol, \n",
    "                      delta_frame=delta_frame, fourier_basis=args.fourier_basis, \n",
    "                      no_ode=args.no_ode, no_fourier=args.no_fourier)\n",
    "    \n",
    "    # load the model weights \")\n",
    "    model_save_path = os.path.join(args.ref_path, 'saved_model.pth') \n",
    "    print(f'Loading model from {model_save_path}') \n",
    "    model.load_state_dict(torch.load(model_save_path)) \n",
    "    # print(\"provisional not loading the model weights\")\n",
    "else:\n",
    "    raise Exception(\"Wrong model specified\")\n",
    "print(model)\n",
    "\n"
   ]
  },
  {
   "cell_type": "code",
   "execution_count": null,
   "metadata": {},
   "outputs": [],
   "source": [
    "gen = evaluate_model_short_term(loader_test, model)"
   ]
  },
  {
   "cell_type": "code",
   "execution_count": null,
   "metadata": {},
   "outputs": [],
   "source": [
    "item = next(gen)\n",
    "item['view']  # in Jupyter, displays an interactive 3D window"
   ]
  },
  {
   "cell_type": "code",
   "execution_count": null,
   "metadata": {},
   "outputs": [],
   "source": [
    "print(f\"Trajectory {item['traj_idx']} - time={item['time']} - {item['label']}\")\n",
    "item['view'].png()  # Save a PNG image of the current view"
   ]
  },
  {
   "cell_type": "code",
   "execution_count": null,
   "metadata": {},
   "outputs": [],
   "source": [
    "item = next(gen)\n",
    "item['view']  # in Jupyter, displays an interactive 3D window"
   ]
  },
  {
   "cell_type": "code",
   "execution_count": null,
   "metadata": {},
   "outputs": [],
   "source": [
    "print(f\"Trajectory {item['traj_idx']} - time={item['time']} - {item['label']}\")\n",
    "item['view'].png()  # Save a PNG image of the current view"
   ]
  },
  {
   "cell_type": "code",
   "execution_count": null,
   "metadata": {},
   "outputs": [],
   "source": [
    "item = next(gen)\n",
    "item['view']  # in Jupyter, displays an interactive 3D window"
   ]
  },
  {
   "cell_type": "code",
   "execution_count": null,
   "metadata": {},
   "outputs": [],
   "source": [
    "print(f\"Trajectory {item['traj_idx']} - time={item['time']} - {item['label']}\")\n",
    "item['view'].png()  # Save a PNG image of the current view"
   ]
  },
  {
   "cell_type": "code",
   "execution_count": null,
   "metadata": {},
   "outputs": [],
   "source": [
    "item = next(gen)\n",
    "item['view']  # in Jupyter, displays an interactive 3D window"
   ]
  },
  {
   "cell_type": "code",
   "execution_count": null,
   "metadata": {},
   "outputs": [],
   "source": [
    "print(f\"Trajectory {item['traj_idx']} - time={item['time']} - {item['label']}\")\n",
    "item['view'].png()  # Save a PNG image of the current view"
   ]
  },
  {
   "cell_type": "code",
   "execution_count": null,
   "metadata": {},
   "outputs": [],
   "source": [
    "item = next(gen)\n",
    "item['view']  # in Jupyter, displays an interactive 3D window"
   ]
  },
  {
   "cell_type": "code",
   "execution_count": null,
   "metadata": {},
   "outputs": [],
   "source": [
    "print(f\"Trajectory {item['traj_idx']} - time={item['time']} - {item['label']}\")\n",
    "item['view'].png()  # Save a PNG image of the current view"
   ]
  },
  {
   "cell_type": "code",
   "execution_count": null,
   "metadata": {},
   "outputs": [],
   "source": [
    "item = next(gen)\n",
    "item['view']  # in Jupyter, displays an interactive 3D window"
   ]
  },
  {
   "cell_type": "code",
   "execution_count": null,
   "metadata": {},
   "outputs": [],
   "source": [
    "print(f\"Trajectory {item['traj_idx']} - time={item['time']} - {item['label']}\")\n",
    "item['view'].png()  # Save a PNG image of the current view"
   ]
  },
  {
   "cell_type": "code",
   "execution_count": null,
   "metadata": {},
   "outputs": [],
   "source": [
    "item = next(gen)\n",
    "item['view']  # in Jupyter, displays an interactive 3D window"
   ]
  },
  {
   "cell_type": "code",
   "execution_count": null,
   "metadata": {},
   "outputs": [],
   "source": [
    "print(f\"Trajectory {item['traj_idx']} - time={item['time']} - {item['label']}\")\n",
    "item['view'].png()  # Save a PNG image of the current view"
   ]
  },
  {
   "cell_type": "code",
   "execution_count": null,
   "metadata": {},
   "outputs": [],
   "source": [
    "item = next(gen)\n",
    "item['view']  # in Jupyter, displays an interactive 3D window"
   ]
  },
  {
   "cell_type": "code",
   "execution_count": null,
   "metadata": {},
   "outputs": [],
   "source": [
    "print(f\"Trajectory {item['traj_idx']} - time={item['time']} - {item['label']}\")\n",
    "item['view'].png()  # Save a PNG image of the current view"
   ]
  },
  {
   "cell_type": "code",
   "execution_count": null,
   "metadata": {},
   "outputs": [],
   "source": [
    "item = next(gen)\n",
    "item['view']  # in Jupyter, displays an interactive 3D window"
   ]
  },
  {
   "cell_type": "code",
   "execution_count": null,
   "metadata": {},
   "outputs": [],
   "source": [
    "print(f\"Trajectory {item['traj_idx']} - time={item['time']} - {item['label']}\")\n",
    "item['view'].png()  # Save a PNG image of the current view"
   ]
  },
  {
   "cell_type": "code",
   "execution_count": null,
   "metadata": {},
   "outputs": [],
   "source": [
    "item = next(gen)\n",
    "item['view']  # in Jupyter, displays an interactive 3D window"
   ]
  },
  {
   "cell_type": "code",
   "execution_count": null,
   "metadata": {},
   "outputs": [],
   "source": [
    "print(f\"Trajectory {item['traj_idx']} - time={item['time']} - {item['label']}\")\n",
    "item['view'].png()  # Save a PNG image of the current view"
   ]
  },
  {
   "cell_type": "code",
   "execution_count": null,
   "metadata": {},
   "outputs": [],
   "source": [
    "item = next(gen)\n",
    "item['view']  # in Jupyter, displays an interactive 3D window"
   ]
  },
  {
   "cell_type": "code",
   "execution_count": null,
   "metadata": {},
   "outputs": [],
   "source": [
    "print(f\"Trajectory {item['traj_idx']} - time={item['time']} - {item['label']}\")\n",
    "item['view'].png()  # Save a PNG image of the current view"
   ]
  },
  {
   "cell_type": "code",
   "execution_count": null,
   "metadata": {},
   "outputs": [],
   "source": [
    "item = next(gen)\n",
    "item['view']  # in Jupyter, displays an interactive 3D window"
   ]
  },
  {
   "cell_type": "code",
   "execution_count": null,
   "metadata": {},
   "outputs": [],
   "source": [
    "print(f\"Trajectory {item['traj_idx']} - time={item['time']} - {item['label']}\")\n",
    "item['view'].png()  # Save a PNG image of the current view"
   ]
  },
  {
   "cell_type": "code",
   "execution_count": null,
   "metadata": {},
   "outputs": [],
   "source": [
    "item = next(gen)\n",
    "item['view']  # in Jupyter, displays an interactive 3D window"
   ]
  },
  {
   "cell_type": "code",
   "execution_count": null,
   "metadata": {},
   "outputs": [],
   "source": [
    "print(f\"Trajectory {item['traj_idx']} - time={item['time']} - {item['label']}\")\n",
    "item['view'].png()  # Save a PNG image of the current view"
   ]
  },
  {
   "cell_type": "code",
   "execution_count": null,
   "metadata": {},
   "outputs": [],
   "source": [
    "item = next(gen)\n",
    "item['view']  # in Jupyter, displays an interactive 3D window"
   ]
  },
  {
   "cell_type": "code",
   "execution_count": null,
   "metadata": {},
   "outputs": [],
   "source": [
    "print(f\"Trajectory {item['traj_idx']} - time={item['time']} - {item['label']}\")\n",
    "item['view'].png()  # Save a PNG image of the current view"
   ]
  },
  {
   "cell_type": "code",
   "execution_count": null,
   "metadata": {},
   "outputs": [],
   "source": [
    "item = next(gen)\n",
    "item['view']  # in Jupyter, displays an interactive 3D window"
   ]
  },
  {
   "cell_type": "code",
   "execution_count": null,
   "metadata": {},
   "outputs": [],
   "source": [
    "print(f\"Trajectory {item['traj_idx']} - time={item['time']} - {item['label']}\")\n",
    "item['view'].png()  # Save a PNG image of the current view"
   ]
  },
  {
   "cell_type": "code",
   "execution_count": null,
   "metadata": {},
   "outputs": [],
   "source": [
    "item = next(gen)\n",
    "item['view']  # in Jupyter, displays an interactive 3D window"
   ]
  },
  {
   "cell_type": "code",
   "execution_count": null,
   "metadata": {},
   "outputs": [],
   "source": [
    "print(f\"Trajectory {item['traj_idx']} - time={item['time']} - {item['label']}\")\n",
    "item['view'].png()  # Save a PNG image of the current view"
   ]
  },
  {
   "cell_type": "code",
   "execution_count": null,
   "metadata": {},
   "outputs": [],
   "source": [
    "item = next(gen)\n",
    "item['view']  # in Jupyter, displays an interactive 3D window"
   ]
  },
  {
   "cell_type": "code",
   "execution_count": null,
   "metadata": {},
   "outputs": [],
   "source": [
    "print(f\"Trajectory {item['traj_idx']} - time={item['time']} - {item['label']}\")\n",
    "item['view'].png()  # Save a PNG image of the current view"
   ]
  },
  {
   "cell_type": "code",
   "execution_count": null,
   "metadata": {},
   "outputs": [],
   "source": [
    "item = next(gen)\n",
    "item['view']  # in Jupyter, displays an interactive 3D window"
   ]
  },
  {
   "cell_type": "code",
   "execution_count": null,
   "metadata": {},
   "outputs": [],
   "source": [
    "print(f\"Trajectory {item['traj_idx']} - time={item['time']} - {item['label']}\")\n",
    "item['view'].png()  # Save a PNG image of the current view"
   ]
  },
  {
   "cell_type": "code",
   "execution_count": null,
   "metadata": {},
   "outputs": [],
   "source": [
    "item = next(gen)\n",
    "item['view']  # in Jupyter, displays an interactive 3D window"
   ]
  },
  {
   "cell_type": "code",
   "execution_count": null,
   "metadata": {},
   "outputs": [],
   "source": [
    "print(f\"Trajectory {item['traj_idx']} - time={item['time']} - {item['label']}\")\n",
    "item['view'].png()  # Save a PNG image of the current view"
   ]
  },
  {
   "cell_type": "code",
   "execution_count": null,
   "metadata": {},
   "outputs": [],
   "source": [
    "item = next(gen)\n",
    "item['view']  # in Jupyter, displays an interactive 3D window"
   ]
  },
  {
   "cell_type": "code",
   "execution_count": null,
   "metadata": {},
   "outputs": [],
   "source": [
    "print(f\"Trajectory {item['traj_idx']} - time={item['time']} - {item['label']}\")\n",
    "item['view'].png()  # Save a PNG image of the current view"
   ]
  },
  {
   "cell_type": "code",
   "execution_count": null,
   "metadata": {},
   "outputs": [],
   "source": [
    "item = next(gen)\n",
    "item['view']  # in Jupyter, displays an interactive 3D window"
   ]
  },
  {
   "cell_type": "code",
   "execution_count": null,
   "metadata": {},
   "outputs": [],
   "source": [
    "print(f\"Trajectory {item['traj_idx']} - time={item['time']} - {item['label']}\")\n",
    "item['view'].png()  # Save a PNG image of the current view"
   ]
  },
  {
   "cell_type": "code",
   "execution_count": null,
   "metadata": {},
   "outputs": [],
   "source": [
    "item = next(gen)\n",
    "item['view']  # in Jupyter, displays an interactive 3D window"
   ]
  },
  {
   "cell_type": "code",
   "execution_count": null,
   "metadata": {},
   "outputs": [],
   "source": [
    "print(f\"Trajectory {item['traj_idx']} - time={item['time']} - {item['label']}\")\n",
    "item['view'].png()  # Save a PNG image of the current view"
   ]
  },
  {
   "cell_type": "code",
   "execution_count": null,
   "metadata": {},
   "outputs": [],
   "source": [
    "item = next(gen)\n",
    "item['view']  # in Jupyter, displays an interactive 3D window"
   ]
  },
  {
   "cell_type": "code",
   "execution_count": null,
   "metadata": {},
   "outputs": [],
   "source": [
    "print(f\"Trajectory {item['traj_idx']} - time={item['time']} - {item['label']}\")\n",
    "item['view'].png()  # Save a PNG image of the current view"
   ]
  },
  {
   "cell_type": "code",
   "execution_count": null,
   "metadata": {},
   "outputs": [],
   "source": [
    "item = next(gen)\n",
    "item['view']  # in Jupyter, displays an interactive 3D window"
   ]
  },
  {
   "cell_type": "code",
   "execution_count": null,
   "metadata": {},
   "outputs": [],
   "source": [
    "print(f\"Trajectory {item['traj_idx']} - time={item['time']} - {item['label']}\")\n",
    "item['view'].png()  # Save a PNG image of the current view"
   ]
  },
  {
   "cell_type": "code",
   "execution_count": null,
   "metadata": {},
   "outputs": [],
   "source": [
    "item = next(gen)\n",
    "item['view']  # in Jupyter, displays an interactive 3D window"
   ]
  },
  {
   "cell_type": "code",
   "execution_count": null,
   "metadata": {},
   "outputs": [],
   "source": [
    "print(f\"Trajectory {item['traj_idx']} - time={item['time']} - {item['label']}\")\n",
    "item['view'].png()  # Save a PNG image of the current view"
   ]
  },
  {
   "cell_type": "code",
   "execution_count": null,
   "metadata": {},
   "outputs": [],
   "source": [
    "item = next(gen)\n",
    "item['view']  # in Jupyter, displays an interactive 3D window"
   ]
  },
  {
   "cell_type": "code",
   "execution_count": null,
   "metadata": {},
   "outputs": [],
   "source": [
    "print(f\"Trajectory {item['traj_idx']} - time={item['time']} - {item['label']}\")\n",
    "item['view'].png()  # Save a PNG image of the current view"
   ]
  },
  {
   "cell_type": "code",
   "execution_count": null,
   "metadata": {},
   "outputs": [],
   "source": [
    "item = next(gen)\n",
    "item['view']  # in Jupyter, displays an interactive 3D window"
   ]
  },
  {
   "cell_type": "code",
   "execution_count": null,
   "metadata": {},
   "outputs": [],
   "source": [
    "print(f\"Trajectory {item['traj_idx']} - time={item['time']} - {item['label']}\")\n",
    "item['view'].png()  # Save a PNG image of the current view"
   ]
  },
  {
   "cell_type": "code",
   "execution_count": null,
   "metadata": {},
   "outputs": [],
   "source": [
    "item = next(gen)\n",
    "item['view']  # in Jupyter, displays an interactive 3D window"
   ]
  },
  {
   "cell_type": "code",
   "execution_count": null,
   "metadata": {},
   "outputs": [],
   "source": [
    "print(f\"Trajectory {item['traj_idx']} - time={item['time']} - {item['label']}\")\n",
    "item['view'].png()  # Save a PNG image of the current view"
   ]
  },
  {
   "cell_type": "code",
   "execution_count": null,
   "metadata": {},
   "outputs": [],
   "source": [
    "item = next(gen)\n",
    "item['view']  # in Jupyter, displays an interactive 3D window"
   ]
  },
  {
   "cell_type": "code",
   "execution_count": null,
   "metadata": {},
   "outputs": [],
   "source": [
    "print(f\"Trajectory {item['traj_idx']} - time={item['time']} - {item['label']}\")\n",
    "item['view'].png()  # Save a PNG image of the current view"
   ]
  },
  {
   "cell_type": "code",
   "execution_count": null,
   "metadata": {},
   "outputs": [],
   "source": [
    "item = next(gen)\n",
    "item['view']  # in Jupyter, displays an interactive 3D window"
   ]
  },
  {
   "cell_type": "code",
   "execution_count": null,
   "metadata": {},
   "outputs": [],
   "source": [
    "print(f\"Trajectory {item['traj_idx']} - time={item['time']} - {item['label']}\")\n",
    "item['view'].png()  # Save a PNG image of the current view"
   ]
  },
  {
   "cell_type": "code",
   "execution_count": null,
   "metadata": {},
   "outputs": [],
   "source": [
    "item = next(gen)\n",
    "item['view']  # in Jupyter, displays an interactive 3D window"
   ]
  },
  {
   "cell_type": "code",
   "execution_count": null,
   "metadata": {},
   "outputs": [],
   "source": [
    "print(f\"Trajectory {item['traj_idx']} - time={item['time']} - {item['label']}\")\n",
    "item['view'].png()  # Save a PNG image of the current view"
   ]
  },
  {
   "cell_type": "code",
   "execution_count": null,
   "metadata": {},
   "outputs": [],
   "source": [
    "item = next(gen)\n",
    "item['view']  # in Jupyter, displays an interactive 3D window"
   ]
  },
  {
   "cell_type": "code",
   "execution_count": null,
   "metadata": {},
   "outputs": [],
   "source": [
    "print(f\"Trajectory {item['traj_idx']} - time={item['time']} - {item['label']}\")\n",
    "item['view'].png()  # Save a PNG image of the current view"
   ]
  },
  {
   "cell_type": "code",
   "execution_count": null,
   "metadata": {},
   "outputs": [],
   "source": [
    "item = next(gen)\n",
    "item['view']  # in Jupyter, displays an interactive 3D window"
   ]
  },
  {
   "cell_type": "code",
   "execution_count": null,
   "metadata": {},
   "outputs": [],
   "source": [
    "print(f\"Trajectory {item['traj_idx']} - time={item['time']} - {item['label']}\")\n",
    "item['view'].png()  # Save a PNG image of the current view"
   ]
  },
  {
   "cell_type": "code",
   "execution_count": null,
   "metadata": {},
   "outputs": [],
   "source": [
    "item = next(gen)\n",
    "item['view']  # in Jupyter, displays an interactive 3D window"
   ]
  },
  {
   "cell_type": "code",
   "execution_count": null,
   "metadata": {},
   "outputs": [],
   "source": [
    "print(f\"Trajectory {item['traj_idx']} - time={item['time']} - {item['label']}\")\n",
    "item['view'].png()  # Save a PNG image of the current view"
   ]
  },
  {
   "cell_type": "code",
   "execution_count": null,
   "metadata": {},
   "outputs": [],
   "source": [
    "item = next(gen)\n",
    "item['view']  # in Jupyter, displays an interactive 3D window"
   ]
  },
  {
   "cell_type": "code",
   "execution_count": null,
   "metadata": {},
   "outputs": [],
   "source": [
    "print(f\"Trajectory {item['traj_idx']} - time={item['time']} - {item['label']}\")\n",
    "item['view'].png()  # Save a PNG image of the current view"
   ]
  },
  {
   "cell_type": "code",
   "execution_count": null,
   "metadata": {},
   "outputs": [],
   "source": [
    "item = next(gen)\n",
    "item['view']  # in Jupyter, displays an interactive 3D window"
   ]
  },
  {
   "cell_type": "code",
   "execution_count": null,
   "metadata": {},
   "outputs": [],
   "source": [
    "print(f\"Trajectory {item['traj_idx']} - time={item['time']} - {item['label']}\")\n",
    "item['view'].png()  # Save a PNG image of the current view"
   ]
  },
  {
   "cell_type": "code",
   "execution_count": null,
   "metadata": {},
   "outputs": [],
   "source": [
    "item = next(gen)\n",
    "item['view']  # in Jupyter, displays an interactive 3D window"
   ]
  },
  {
   "cell_type": "code",
   "execution_count": null,
   "metadata": {},
   "outputs": [],
   "source": [
    "print(f\"Trajectory {item['traj_idx']} - time={item['time']} - {item['label']}\")\n",
    "item['view'].png()  # Save a PNG image of the current view"
   ]
  },
  {
   "cell_type": "code",
   "execution_count": null,
   "metadata": {},
   "outputs": [],
   "source": [
    "item = next(gen)\n",
    "item['view']  # in Jupyter, displays an interactive 3D window"
   ]
  },
  {
   "cell_type": "code",
   "execution_count": null,
   "metadata": {},
   "outputs": [],
   "source": [
    "print(f\"Trajectory {item['traj_idx']} - time={item['time']} - {item['label']}\")\n",
    "item['view'].png()  # Save a PNG image of the current view"
   ]
  },
  {
   "cell_type": "code",
   "execution_count": null,
   "metadata": {},
   "outputs": [],
   "source": [
    "item = next(gen)\n",
    "item['view']  # in Jupyter, displays an interactive 3D window"
   ]
  },
  {
   "cell_type": "code",
   "execution_count": null,
   "metadata": {},
   "outputs": [],
   "source": [
    "print(f\"Trajectory {item['traj_idx']} - time={item['time']} - {item['label']}\")\n",
    "item['view'].png()  # Save a PNG image of the current view"
   ]
  },
  {
   "cell_type": "code",
   "execution_count": null,
   "metadata": {},
   "outputs": [],
   "source": [
    "item = next(gen)\n",
    "item['view']  # in Jupyter, displays an interactive 3D window"
   ]
  },
  {
   "cell_type": "code",
   "execution_count": null,
   "metadata": {},
   "outputs": [],
   "source": [
    "print(f\"Trajectory {item['traj_idx']} - time={item['time']} - {item['label']}\")\n",
    "item['view'].png()  # Save a PNG image of the current view"
   ]
  },
  {
   "cell_type": "code",
   "execution_count": null,
   "metadata": {},
   "outputs": [],
   "source": [
    "item = next(gen)\n",
    "item['view']  # in Jupyter, displays an interactive 3D window"
   ]
  },
  {
   "cell_type": "code",
   "execution_count": null,
   "metadata": {},
   "outputs": [],
   "source": [
    "print(f\"Trajectory {item['traj_idx']} - time={item['time']} - {item['label']}\")\n",
    "item['view'].png()  # Save a PNG image of the current view"
   ]
  },
  {
   "cell_type": "code",
   "execution_count": null,
   "metadata": {},
   "outputs": [],
   "source": []
  }
 ],
 "metadata": {
  "kernelspec": {
   "display_name": "cs247",
   "language": "python",
   "name": "python3"
  },
  "language_info": {
   "codemirror_mode": {
    "name": "ipython",
    "version": 3
   },
   "file_extension": ".py",
   "mimetype": "text/x-python",
   "name": "python",
   "nbconvert_exporter": "python",
   "pygments_lexer": "ipython3",
   "version": "3.9.18"
  }
 },
 "nbformat": 4,
 "nbformat_minor": 2
}
